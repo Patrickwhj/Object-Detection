{
 "cells": [
  {
   "cell_type": "code",
   "execution_count": 1,
   "metadata": {},
   "outputs": [],
   "source": [
    "import time\n",
    "import os\n",
    "import shutil\n",
    "import string\n",
    " \n",
    "def readFilename(path, allfile):\n",
    "    filelist = os.listdir(path)\n",
    " \n",
    "    for filename in filelist:\n",
    "        filepath = os.path.join(path, filename)\n",
    "        if os.path.isdir(filepath):\n",
    "            readFilename(filepath, allfile)\n",
    "        else:\n",
    "            allfile.append(filepath)\n",
    "    return allfile\n",
    " \n",
    "if __name__ == '__main__':\n",
    "    path1 = \"/datasets/home/20/220/huw011/cse253/proj/PyTorch-YOLOv3/data/custom/images/train\"\n",
    "    allfile1 = []\n",
    "    allfile1 = readFilename(path1, allfile1)\n",
    "#     allname1 = []\n",
    "    txtpath = \"./train.txt\"\n",
    "    for name in allfile1:\n",
    "        file_cls = name.split(\"/\")[-1].split(\".\")[-1]\n",
    "        if file_cls == 'jpg':\n",
    " \n",
    "            with open(txtpath, 'a+') as fp:\n",
    "                fp.write(\"\".join(name) + \"\\n\")\n"
   ]
  },
  {
   "cell_type": "code",
   "execution_count": null,
   "metadata": {},
   "outputs": [],
   "source": []
  }
 ],
 "metadata": {
  "kernelspec": {
   "display_name": "Python 3",
   "language": "python",
   "name": "python3"
  },
  "language_info": {
   "codemirror_mode": {
    "name": "ipython",
    "version": 3
   },
   "file_extension": ".py",
   "mimetype": "text/x-python",
   "name": "python",
   "nbconvert_exporter": "python",
   "pygments_lexer": "ipython3",
   "version": "3.7.3"
  }
 },
 "nbformat": 4,
 "nbformat_minor": 2
}
